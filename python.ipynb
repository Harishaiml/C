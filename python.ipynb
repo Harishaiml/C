{
  "nbformat": 4,
  "nbformat_minor": 0,
  "metadata": {
    "colab": {
      "provenance": [],
      "authorship_tag": "ABX9TyMZBJ9GNGjMV4fvK0QBFVF2",
      "include_colab_link": true
    },
    "kernelspec": {
      "name": "python3",
      "display_name": "Python 3"
    },
    "language_info": {
      "name": "python"
    }
  },
  "cells": [
    {
      "cell_type": "markdown",
      "metadata": {
        "id": "view-in-github",
        "colab_type": "text"
      },
      "source": [
        "<a href=\"https://colab.research.google.com/github/Harishaiml/c/blob/main/python.ipynb\" target=\"_parent\"><img src=\"https://colab.research.google.com/assets/colab-badge.svg\" alt=\"Open In Colab\"/></a>"
      ]
    },
    {
      "cell_type": "code",
      "execution_count": null,
      "metadata": {
        "colab": {
          "base_uri": "https://localhost:8080/"
        },
        "id": "TgG0YB1ed_ey",
        "outputId": "e79e8d7a-09f3-4462-a516-63ebfe323ebf"
      },
      "outputs": [
        {
          "output_type": "stream",
          "name": "stdout",
          "text": [
            "Even=[2, 4, 6, 8, 10]\n",
            "Evensquare=[4, 16, 36, 64, 100]\n",
            "Odd=[1, 3, 5, 7, 9]\n",
            "Oddsquare=[1, 9, 25, 49, 81]\n"
          ]
        }
      ],
      "source": [
        "#Create a list of first 10 natural numbers. And write a program to find the lists of odd numbers and even numbers separately. And, to find the square of its odd and even lists\n",
        "a=[1,2,3,4,5,6,7,8,9,10]\n",
        "e=[]\n",
        "o=[]\n",
        "es=[]\n",
        "osq=[]\n",
        "for i in a:\n",
        "  if i%2==0:\n",
        "    e.append(i)\n",
        "    es.append(pow(i,2))\n",
        "  else:\n",
        "    o.append(i)\n",
        "    osq.append(pow(i,2))\n",
        "print(f\"Even={e}\\nEvensquare={es}\\nOdd={o}\\nOddsquare={osq}\")"
      ]
    },
    {
      "cell_type": "code",
      "source": [
        "#.  Write a program to find the largest and smallest number in the list without using the in-built function.\n",
        "\n",
        "numbers = [15,20,4,29,100,25]\n",
        "lar = numbers[0]\n",
        "sma = numbers[0]\n",
        "for num in numbers:\n",
        "    if num > lar:\n",
        "        lar = num\n",
        "    if num < sma:\n",
        "        sma = num\n",
        "print(\"Largest number:\", lar)\n",
        "print(\"Smallest number:\", sma)"
      ],
      "metadata": {
        "colab": {
          "base_uri": "https://localhost:8080/"
        },
        "id": "54DthSvcf8Ic",
        "outputId": "e5f46e16-a466-43fc-bb97-e4f210a8fbf1"
      },
      "execution_count": null,
      "outputs": [
        {
          "output_type": "stream",
          "name": "stdout",
          "text": [
            "Largest number: 100\n",
            "Smallest number: 4\n"
          ]
        }
      ]
    },
    {
      "cell_type": "code",
      "source": [
        "#Write a program to find the second largest and second smallest number in the list without using the in-built function\n",
        "numbers = [10, 5, 7, 3, 8, 2, 9]\n",
        "l = float('-inf')\n",
        "sl = float('-inf')\n",
        "ss= float('inf')\n",
        "sse = float('inf')\n",
        "for num in numbers:\n",
        "    if num > l:\n",
        "        sl = l\n",
        "        l = num\n",
        "    elif num > sl and num != l:\n",
        "        sl = num\n",
        "\n",
        "    if num < ss:\n",
        "        sse = ss\n",
        "        ss = num\n",
        "    elif num < sse and num != ss:\n",
        "        sse = num\n",
        "print(\"Second largest number:\", sl)\n",
        "print(\"Second smallest number:\", sse)"
      ],
      "metadata": {
        "colab": {
          "base_uri": "https://localhost:8080/"
        },
        "id": "RcUxJfIjiJLH",
        "outputId": "b5a5120f-9391-460f-86f7-6e1bc2fe38ce"
      },
      "execution_count": null,
      "outputs": [
        {
          "output_type": "stream",
          "name": "stdout",
          "text": [
            "Second largest number: 9\n",
            "Second smallest number: 3\n"
          ]
        }
      ]
    },
    {
      "cell_type": "code",
      "source": [
        "#Write a program to sort elements stored in the list as Ascending order and Descending order without using the in-built function (sort ()).\n",
        "#Eg: [5,3,7,9,8,4,2]\n",
        "#Output: [2,3,4,5,7,8,9] – Ascending Order,\n",
        "#\t  [9,8,7,5,4,3,2] – Descending Order\n",
        "\n",
        "a=[int(x)for x in input().split()]\n",
        "for i in range(len(a)):\n",
        "  for j in range(i+1,len(a)):\n",
        "    if a[i]>a[j]:\n",
        "      a[i],a[j]=a[j],a[i]\n",
        "print(f\"{a}-Ascending order\")\n",
        "rev=a[::-1]\n",
        "print(f\"{rev}-Descending Order\")"
      ],
      "metadata": {
        "colab": {
          "base_uri": "https://localhost:8080/"
        },
        "id": "erkq7mu5k2gV",
        "outputId": "b1caef16-f8d5-4d97-b928-fd710fd3da35"
      },
      "execution_count": null,
      "outputs": [
        {
          "output_type": "stream",
          "name": "stdout",
          "text": [
            "26 7 89 68 95 85\n",
            "[7, 26, 68, 85, 89, 95]-Ascending order\n",
            "[95, 89, 85, 68, 26, 7]-Descending Order\n"
          ]
        }
      ]
    },
    {
      "cell_type": "code",
      "source": [
        "#Find the index position of the specific number stored in the list.\n",
        "#Eg: a= [45,67,83,24,55,87,77,34]\n",
        "#What is the position of 55?\n",
        "\n",
        "a=[45,67,83,24,55,87,77,34]\n",
        "b=55\n",
        "\n",
        "ine=a.index(b)\n",
        "print(f\"Index Position of {b} is :\",ine)\n"
      ],
      "metadata": {
        "colab": {
          "base_uri": "https://localhost:8080/"
        },
        "id": "wifvX6kepHx5",
        "outputId": "bb0c3344-6490-43a2-aa29-7241ea28e8fb"
      },
      "execution_count": null,
      "outputs": [
        {
          "output_type": "stream",
          "name": "stdout",
          "text": [
            "Index Position of 55 is : 4\n"
          ]
        }
      ]
    },
    {
      "cell_type": "code",
      "source": [
        "\n",
        "#Find most frequent element present in a list.\n",
        "#Eg: a= [4,5,6,4,6,7,4,2,4,8,4]\n",
        "\n",
        "a = [4, 5, 6, 4, 6, 7, 4, 2, 4, 8, 4]\n",
        "count_dict = {}\n",
        "for num in a:\n",
        "    if num in count_dict:\n",
        "        count_dict[num] += 1\n",
        "    else:\n",
        "        count_dict[num] = 1\n",
        "most_frequent_element = max(count_dict, key=count_dict.get)\n",
        "print(\"Most frequent element:\", most_frequent_element)"
      ],
      "metadata": {
        "colab": {
          "base_uri": "https://localhost:8080/"
        },
        "id": "Cp9awiEtsrK2",
        "outputId": "d35ced9e-aee6-4eb0-dd29-2d626689aa42"
      },
      "execution_count": null,
      "outputs": [
        {
          "output_type": "stream",
          "name": "stdout",
          "text": [
            "Most frequent element: 4\n"
          ]
        }
      ]
    },
    {
      "cell_type": "code",
      "source": [
        "#Below are the two lists. Write a Python program to convert them into a dictionary in a way that item from list1 is the key and item from list2 is the value by using update method ().\n",
        "#keys = ['Ten', 'Twenty', 'Thirty']\n",
        "#values = [10, 20, 30]\n",
        "\n",
        "keys = ['Ten', 'Twenty', 'Thirty']\n",
        "values = [10, 20, 30]\n",
        "\n",
        "value = {}\n",
        "for i in range(len(keys)):\n",
        "    value.update({keys[i]: values[i]})\n",
        "\n",
        "print(value)"
      ],
      "metadata": {
        "colab": {
          "base_uri": "https://localhost:8080/"
        },
        "id": "OLw6WJlEu6Bz",
        "outputId": "79ebfc7d-17f7-482e-f831-3989f02f8ae1"
      },
      "execution_count": null,
      "outputs": [
        {
          "output_type": "stream",
          "name": "stdout",
          "text": [
            "{'Ten': 10, 'Twenty': 20, 'Thirty': 30}\n"
          ]
        }
      ]
    },
    {
      "cell_type": "code",
      "source": [
        "#Create a list of 10 members as a Voter_list. Assume that there are 3 Candidates (A, B & C) are going to contest in the election process. Write a program that voters will cast their votes and predict the Winner and Runner of the election process and to find the members who voted for the Winner and Runner\n",
        "a=[\"A\",\"B\",\"C\",\"n\"]\n",
        "c=[0,0,0,0]\n",
        "v=['a','b','c','d','e','f','g','h','i','j']\n",
        "aa=[]\n",
        "bb=[]\n",
        "cc=[]\n",
        "n=[]\n",
        "bruh=[aa,bb,cc,n]\n",
        "print(\"To vote A press 1\\nTo vote B press 2\\nTo vote C press 3\\nTo vote none press 4\")\n",
        "for i in v:\n",
        "  w=int(input(f\"Please make ur vote {i} :\"))\n",
        "  if(w==1):\n",
        "    aa.append(i)\n",
        "    c[0]+=1\n",
        "  elif(w==2):\n",
        "    bb.append(i)\n",
        "    c[1]+=1\n",
        "  elif(w==3):\n",
        "    cc.append(i)\n",
        "  elif(w==4):\n",
        "    n.append(i)\n",
        "  else:\n",
        "    print(\"Make sure u Enter crt option next time :)\")\n",
        "m=0\n",
        "for i in range(4):\n",
        "  if(m<c[i]):\n",
        "    m=c[i]\n",
        "for i in range(4):\n",
        "  if(m==c[i]):\n",
        "    print(\"The winner is\",a[i],\"with\",c[i],\"votes\")\n",
        "    print(bruh[i])\n",
        "    c[i]=0\n",
        "    break\n",
        "sm=0\n",
        "for i in range(4):\n",
        "  if(sm<c[i]):\n",
        "    sm=c[i]\n",
        "for i in range(4):\n",
        "  if(sm==c[i]):\n",
        "    print(\"The Runner is\",a[i],\"with\",c[i],\"votes\")\n",
        "    print(bruh[i])"
      ],
      "metadata": {
        "colab": {
          "base_uri": "https://localhost:8080/"
        },
        "id": "d95B1aE-2BeD",
        "outputId": "c759b381-da47-408b-c199-63dd9789e4aa"
      },
      "execution_count": null,
      "outputs": [
        {
          "output_type": "stream",
          "name": "stdout",
          "text": [
            "To vote A press 1\n",
            "To vote B press 2\n",
            "To vote C press 3\n",
            "To vote none press 4\n",
            "Please make ur vote a :1\n",
            "Please make ur vote b :2\n",
            "Please make ur vote c :3\n",
            "Please make ur vote d :4\n",
            "Please make ur vote e :1\n",
            "Please make ur vote f :2\n",
            "Please make ur vote g :3\n",
            "Please make ur vote h :4\n",
            "Please make ur vote i :1\n",
            "Please make ur vote j :2\n",
            "The winner is A with 3 votes\n",
            "['a', 'e', 'i']\n",
            "The Runner is B with 3 votes\n",
            "['b', 'f', 'j']\n"
          ]
        }
      ]
    },
    {
      "cell_type": "code",
      "source": [
        "# prompt: Write a program to calculate the following functions:\n",
        "# 1. India (Rupee) to US (Dollar) conversion\n",
        "# 2. Celsius to Fahrenheit\n",
        "# 3. BMI Calculation\n",
        "# 4. Simple Interest Calculation\n",
        "\n",
        "def rupee_to_dollar(rupees):\n",
        "  dollars = rupees / 75.22\n",
        "  return dollars\n",
        "\n",
        "def celsius_to_fahrenheit(celsius):\n",
        "  fahrenheit = (celsius * 9/5) + 32\n",
        "  return fahrenheit\n",
        "\n",
        "def bmi_calculation(weight, height):\n",
        "  bmi = weight / (height * height)\n",
        "  return bmi\n",
        "\n",
        "def simple_interest(principal, rate, time):\n",
        "  interest = (principal * rate * time) / 100\n",
        "  return interest\n",
        "\n",
        "rupees = float(input(\"Enter amount in Rupees: \"))\n",
        "celsius = float(input(\"Enter temperature in Celsius: \"))\n",
        "weight = float(input(\"Enter weight in kilograms: \"))\n",
        "height = float(input(\"Enter height in meters: \"))\n",
        "principal = float(input(\"Enter principal amount: \"))\n",
        "rate = float(input(\"Enter rate of interest: \"))\n",
        "time = float(input(\"Enter time in years: \"))\n",
        "\n",
        "dollars = rupee_to_dollar(rupees)\n",
        "fahrenheit = celsius_to_fahrenheit(celsius)\n",
        "bmi = bmi_calculation(weight, height)\n",
        "interest = simple_interest(principal, rate, time)\n",
        "\n",
        "# Print results\n",
        "print(f\"Rupees {rupees} is equal to {dollars:.2f} Dollars\")\n",
        "print(f\"{celsius} degree Celsius is equal to {fahrenheit:.2f} degree Fahrenheit\")\n",
        "print(f\"BMI is {bmi:.2f}\")\n",
        "print(f\"Simple interest is {interest:.2f}\")\n"
      ],
      "metadata": {
        "id": "SNTUVqzu7BCX"
      },
      "execution_count": null,
      "outputs": []
    },
    {
      "cell_type": "code",
      "source": [
        "input_list = [0, 1, 0, 1, 1, 0, 1, 0, 1, 0]\n",
        "output_list = sorted(input_list)\n",
        "\n",
        "print(output_list)"
      ],
      "metadata": {
        "colab": {
          "base_uri": "https://localhost:8080/"
        },
        "id": "BLkPwOaS_U0n",
        "outputId": "8fc1d80c-7723-4484-f480-13f404e673c7"
      },
      "execution_count": 2,
      "outputs": [
        {
          "output_type": "stream",
          "name": "stdout",
          "text": [
            "[0, 0, 0, 0, 0, 1, 1, 1, 1, 1]\n"
          ]
        }
      ]
    }
  ]
}